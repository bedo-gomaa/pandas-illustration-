{
 "cells": [
  {
   "cell_type": "code",
   "execution_count": null,
   "metadata": {},
   "outputs": [],
   "source": [
    "import pandas as pd \n",
    "df = pd.read_csv (\"pokemon_data.csv\",delimiter=\"&\")# delimiter is used to put any sepration i want \n",
    "df.columns   # find the column names \n",
    "\n"
   ]
  },
  {
   "cell_type": "code",
   "execution_count": null,
   "metadata": {},
   "outputs": [],
   "source": [
    "df = pd.read_csv (\"pokemon_data.csv\")\n",
    "#print (df['Name'][0:5]) # top 5 names \n",
    "print (df.Name) # another solution to print names from data frame \n"
   ]
  },
  {
   "cell_type": "code",
   "execution_count": null,
   "metadata": {},
   "outputs": [],
   "source": [
    "print (df[['Name','Type 1']]) # show more than column "
   ]
  },
  {
   "cell_type": "code",
   "execution_count": null,
   "metadata": {},
   "outputs": [],
   "source": [
    "print (df.iloc[1]) # read the only first row \n"
   ]
  },
  {
   "cell_type": "code",
   "execution_count": null,
   "metadata": {},
   "outputs": [],
   "source": [
    "print (df.iloc[1:4]) # read from row 1 to row 4 "
   ]
  },
  {
   "cell_type": "code",
   "execution_count": null,
   "metadata": {},
   "outputs": [],
   "source": [
    "print (df.iloc[2,1]) #read a sepcifi place in this casse column 2 row 1"
   ]
  },
  {
   "cell_type": "code",
   "execution_count": null,
   "metadata": {},
   "outputs": [],
   "source": [
    "for index , row in df.iterrows():    #show only row by row \n",
    "    print (index , row)"
   ]
  },
  {
   "cell_type": "code",
   "execution_count": null,
   "metadata": {},
   "outputs": [],
   "source": [
    "df.loc[df['Type 1'] == 'Fire']   # iloc find the row put loc find the information stoarge in something like this example "
   ]
  },
  {
   "cell_type": "code",
   "execution_count": null,
   "metadata": {},
   "outputs": [],
   "source": [
    "df .describe() # find all important info ro about our data  count mean max min "
   ]
  },
  {
   "cell_type": "code",
   "execution_count": null,
   "metadata": {},
   "outputs": [],
   "source": [
    "df.sort_values ('Name',ascending=False)  #sorting the value using names instade of  0,1,....\n",
    "                                         # ascending = false that is mean deacending from z to a or from big to small"
   ]
  },
  {
   "cell_type": "code",
   "execution_count": null,
   "metadata": {},
   "outputs": [],
   "source": [
    "df['Total']= df['HP']+df['Attack']+df['Defense']+df['Sp. Atk']+df['Sp. Def']+df['Speed']  #add new column call Totall\n",
    "\n",
    "df=df.drop(columns=['Total']) # drop the column to use another method \n",
    "\n",
    "df\n"
   ]
  },
  {
   "cell_type": "code",
   "execution_count": null,
   "metadata": {},
   "outputs": [],
   "source": [
    "df['Total'] =df.iloc[:, 4:10].sum(axis=1) # add all rows and columns from 4 to 10 to include the last column speed same like add above put more simple\n",
    "                               # axis must equal = 1 to show the result horizontally if you but  zero 0 it will show nothing because it mean vertically\n",
    "\n",
    "cols = list(df.columns)\n",
    "df= df [cols[0:4]+[cols[-1]]+cols[4:12]]  # ragrange the columns  instade of writing df= df[['totla', 'hp','defence']] we but  the index of it [0:4],[-1],[4:12]\n",
    "\n",
    "df.head(5)                                   "
   ]
  },
  {
   "cell_type": "code",
   "execution_count": 24,
   "metadata": {},
   "outputs": [],
   "source": [
    "df.to_csv('modified.csv',index = False) #save the new data after rearange the columns in new file \n",
    "                                        # index = false this mean the index (0,1,2,......) in the data will dropped \n"
   ]
  },
  {
   "cell_type": "code",
   "execution_count": null,
   "metadata": {},
   "outputs": [],
   "source": [
    "df.loc[(df['Type 1'] == 'Grass') & (df ['Type 2']== 'Poison') & (df ['HP']>70) ]   # filtering data  we can use also & instade of 'and' we can use OR   also \n",
    "                                                                                   # when use 'and' there is an error so use '&' better and '|' for 'or'\"multible inhertence.py\""
   ]
  },
  {
   "cell_type": "code",
   "execution_count": null,
   "metadata": {},
   "outputs": [],
   "source": [
    "#df.loc[df['Name'].str.contains(\"Mega\")] # if i do not know the specific word i have only some letter of it i can filter with it\n",
    "\n",
    "\n",
    "df.loc[~df['Name'].str.contains(\"Mega\")] # this is  (~) the oposite of above line of code anything not include Mega"
   ]
  },
  {
   "cell_type": "code",
   "execution_count": null,
   "metadata": {},
   "outputs": [],
   "source": [
    "#df.loc[df['Type 1']=='Fire' ,'Type 1' ] = 'Flamer'  # change the value of typ1 which include fire to flamer \n",
    "df.loc[df['Type 1']=='Flamer' ,'Type 1' ] = 'Fire'  # bac every thing to normal again \n",
    "\n",
    "df.loc[df['Type 1']=='Fire' ,'Legendary' ] = 'wow'    # in type 1 any fire change the crosponding in legendry with wow \n",
    "df"
   ]
  },
  {
   "cell_type": "code",
   "execution_count": null,
   "metadata": {},
   "outputs": [],
   "source": [
    "df.loc [df['Total'] > 500 , ['Generation','Legendary']] = 'test value'  # if the total value more than 500 change the  'Generation','Legendary to  'test value\n",
    "\n",
    "df.loc [df['Total'] > 500 , ['Generation','Legendary']] = ['test1', 'test2']  #if the total value more than 500 change the  'Generation to test 1 and legendry to test 2 \n",
    "df"
   ]
  },
  {
   "cell_type": "code",
   "execution_count": null,
   "metadata": {},
   "outputs": [],
   "source": [
    "df = pd.read_csv (\"pokemon_data.csv\")  # upload the data agiam without changing \n",
    "df  "
   ]
  },
  {
   "cell_type": "code",
   "execution_count": null,
   "metadata": {},
   "outputs": [],
   "source": [
    "df.groupby(['Type 1']).mean().sort_values('Defense' , ascending=False) # sort the value with defence column to know which is the best bokimon in defense\n"
   ]
  },
  {
   "cell_type": "code",
   "execution_count": null,
   "metadata": {},
   "outputs": [],
   "source": [
    "\n",
    "df.groupby(['Type 1']).mean().sort_values('Attack'\t , ascending=False) # which best bokimon in attack "
   ]
  },
  {
   "cell_type": "code",
   "execution_count": null,
   "metadata": {},
   "outputs": [],
   "source": []
  },
  {
   "cell_type": "code",
   "execution_count": null,
   "metadata": {},
   "outputs": [],
   "source": []
  }
 ],
 "metadata": {
  "kernelspec": {
   "display_name": "Python 3.10.5 64-bit",
   "language": "python",
   "name": "python3"
  },
  "language_info": {
   "codemirror_mode": {
    "name": "ipython",
    "version": 3
   },
   "file_extension": ".py",
   "mimetype": "text/x-python",
   "name": "python",
   "nbconvert_exporter": "python",
   "pygments_lexer": "ipython3",
   "version": "3.10.5"
  },
  "orig_nbformat": 4,
  "vscode": {
   "interpreter": {
    "hash": "9041f1b3911547c9502ef9c40f4149284095faa8b5b2cdb7390244859e34deed"
   }
  }
 },
 "nbformat": 4,
 "nbformat_minor": 2
}
